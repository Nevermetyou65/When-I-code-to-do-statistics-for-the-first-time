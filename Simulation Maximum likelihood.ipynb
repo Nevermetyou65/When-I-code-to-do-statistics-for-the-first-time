{
 "cells": [
  {
   "cell_type": "markdown",
   "metadata": {},
   "source": [
    "# Maximum Likelihood"
   ]
  },
  {
   "cell_type": "markdown",
   "metadata": {},
   "source": [
    "Suppose that a random sample with size of $n = 5$ is $(8, 4, 7, 15, 8)$ is from $Poisson(\\lambda)$\n",
    "\n",
    "$$Y_{1}, Y_{2}, Y_{3}, Y_{4}, Y_{5}  \\overset{iid}{\\sim} Poisson(\\lambda)$$"
   ]
  },
  {
   "cell_type": "markdown",
   "metadata": {},
   "source": [
    "In this Notebook, I attempted to determine the maximum likelihood estimate for $\\lambda$"
   ]
  },
  {
   "cell_type": "code",
   "execution_count": 1,
   "metadata": {},
   "outputs": [],
   "source": [
    "import numpy as np\n",
    "import scipy.special\n",
    "import matplotlib.pyplot as plt"
   ]
  },
  {
   "cell_type": "markdown",
   "metadata": {},
   "source": [
    "Below is the function that is a representative of the likelihood function that I derived methematically like this,\n",
    "\n",
    "$$L(\\lambda | y_{1}, y_{2}, ..., y_{n}) = f(y_{1}, y_{2},..., y_{n} | \\lambda)$$\n",
    "<br>\n",
    "$$L(\\lambda | y_{1}, y_{2}, ..., y_{n}) = \\frac{e^{-n\\lambda}  \\lambda^{\\sum_{i=1}^{n}y_{i}}}{\\prod \\limits_{i=1}^{n} y_{i}}$$\n",
    "\n",
    "And in this case my $n = 5$. The function return the values of the likelihood function and the index of the maximum value"
   ]
  },
  {
   "cell_type": "code",
   "execution_count": 2,
   "metadata": {},
   "outputs": [],
   "source": [
    "def likelihoodfunc(sample, lamda):\n",
    "    ''' \n",
    "    sample = observed sample of interest \n",
    "    lamda = parameter of poisson (lambda)\n",
    "    \n",
    "    '''\n",
    "    numer = (np.exp(-sample.size*lamda) * np.power(lamda, np.sum(sample)))\n",
    "    denorm = np.prod(scipy.special.factorial(sample))\n",
    "    func_value = numer / denorm\n",
    "    \n",
    "    ind_max = np.argmax(func_value)\n",
    "    \n",
    "    return func_value, ind_max"
   ]
  },
  {
   "cell_type": "markdown",
   "metadata": {},
   "source": [
    "Here, we used the observed sample that I stated before and also generate many $\\lambda$ value.<br>\n",
    "I then called the function and obtained function's values and the index of the maximum.<br>\n",
    "\n",
    "I also showed you the estimate value to be 8.4"
   ]
  },
  {
   "cell_type": "code",
   "execution_count": 3,
   "metadata": {},
   "outputs": [
    {
     "name": "stdout",
     "output_type": "stream",
     "text": [
      "maximum likelohood estimate:  8.4\n"
     ]
    }
   ],
   "source": [
    "observed_sample = np.array([8,4,7,15,8]) \n",
    "lamda = np.arange(0, 100, 0.01) # generate lambda \n",
    "\n",
    "func_value ,ind_max= likelihoodfunc(observed_sample, lamda)\n",
    "\n",
    "max_estimate = lamda[ind_max]\n",
    "print('maximum likelohood estimate: ', max_estimate)"
   ]
  },
  {
   "cell_type": "markdown",
   "metadata": {},
   "source": [
    "At last, I used visualization to make sure that my 8.4 is the maximum value that maximize the likelihood function."
   ]
  },
  {
   "cell_type": "code",
   "execution_count": 4,
   "metadata": {},
   "outputs": [
    {
     "data": {
      "image/png": "[encoded data removed]",
      "text/plain": [
       "<Figure size 576x360 with 1 Axes>"
      ]
     },
     "metadata": {
      "needs_background": "light"
     },
     "output_type": "display_data"
    }
   ],
   "source": [
    "plt.figure(figsize=(8,5))\n",
    "plt.plot(lamda, func_value)\n",
    "plt.axvline(x=max_estimate, color='r', linestyle='-') # add vertical line at max estimates\n",
    "plt.xlabel('lamda')\n",
    "plt.ylabel('value of likelihood function')\n",
    "plt.show()"
   ]
  }
 ],
 "metadata": {
  "kernelspec": {
   "display_name": "Python 3",
   "language": "python",
   "name": "python3"
  },
  "language_info": {
   "codemirror_mode": {
    "name": "ipython",
    "version": 3
   },
   "file_extension": ".py",
   "mimetype": "text/x-python",
   "name": "python",
   "nbconvert_exporter": "python",
   "pygments_lexer": "ipython3",
   "version": "3.8.5"
  }
 },
 "nbformat": 4,
 "nbformat_minor": 4
}
